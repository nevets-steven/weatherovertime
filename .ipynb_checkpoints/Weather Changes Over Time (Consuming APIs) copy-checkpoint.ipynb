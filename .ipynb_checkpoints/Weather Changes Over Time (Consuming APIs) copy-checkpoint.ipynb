{
 "cells": [
  {
   "cell_type": "markdown",
   "id": "ec7397bf",
   "metadata": {},
   "source": [
    "# Weather Changes Over Time (Consuming APIs)\n",
    "\n",
    "## Task\n",
    "Utilize the following two APIs to evaluate the changes in temperature for your birthday and city you were born in:\n",
    "* [geocode.xyz](geocode.xyz)\n",
    "* [open-meteo.com](open-meteo.com)\n"
   ]
  },
  {
   "cell_type": "code",
   "execution_count": 1,
   "id": "b25836d9",
   "metadata": {
    "ExecuteTime": {
     "end_time": "2023-02-28T00:37:36.649033Z",
     "start_time": "2023-02-28T00:37:35.420371Z"
    }
   },
   "outputs": [],
   "source": [
    "from datetime import date, datetime, timedelta\n",
    "\n",
    "import requests\n",
    "import pandas as pd\n",
    "import numpy as np\n",
    "\n",
    "import seaborn as sns\n",
    "from matplotlib import pyplot as plt\n",
    "from matplotlib.ticker import FormatStrFormatter\n",
    "\n",
    "%matplotlib inline\n",
    "\n",
    "sns.set_palette('muted')\n",
    "sns.set_style('white')"
   ]
  },
  {
   "cell_type": "markdown",
   "id": "cd30d0c3",
   "metadata": {
    "ExecuteTime": {
     "end_time": "2023-02-27T20:30:03.112450Z",
     "start_time": "2023-02-27T20:30:03.106139Z"
    }
   },
   "source": [
    "## Question 1: Geocoding A Location\n",
    "Write a function that utilizes the [geocode.xyz](geocode.xyz) API to take in a city and country and return the latitude and longitude of that location\n",
    "\n",
    "```\n",
    "def geocode_location(city, country):\n",
    "    # your code\n",
    "    return latitude, longitude\n",
    "```\n",
    "\n",
    "For example:\n",
    "```\n",
    "geocode_location(\"london\", \"united kingdom\")\n",
    "```\n",
    "should return\n",
    "```\n",
    "(-0.11534, 51.49742)\n",
    "```"
   ]
  },
  {
   "cell_type": "code",
   "execution_count": 2,
   "id": "e70660d3",
   "metadata": {
    "ExecuteTime": {
     "end_time": "2023-02-27T22:31:12.769895Z",
     "start_time": "2023-02-27T22:31:12.752767Z"
    }
   },
   "outputs": [],
   "source": [
    "# write your solution here\n",
    "def geocode_location(city, country):\n",
    "    url = f'https://geocode.xyz/{city}%20{country}'\n",
    "    r = requests.get(url, params={'json': 1}).json()\n",
    "    return float(r['latt']), float(r['longt'])\n",
    "\n",
    "# geocode_location('london', 'united kingdom')\n"
   ]
  },
  {
   "cell_type": "markdown",
   "id": "2f15ce09",
   "metadata": {},
   "source": [
    "## Question 2: Determining Weather Using Date and Location\n",
    "Write a function that utilizes the [open-meteo.com](https://open-meteo.com/) API to take in a date and location and return the 15-day average high and low for the following measurements from the years 1960 to 2022:\n",
    "* `precipitation_sum` (mm): Sum of daily precipitation (including rain, showers and snowfall)\n",
    "* `temperature_2m_max` (°F): Maximum daily air temperature at 2 meters above ground\n",
    "* `temperature_2m_min` (°F): Minimum daily air temperature at 2 meters above ground\n",
    "* `apparent_temperature_max` (°F): Maximum daily apparent temperature\n",
    "* `apparent_temperature_min` (°F): Min daily apparent temperature\n",
    "\n",
    "The function should return the above measurements in a dictionary object with the keys being `\"precipitation_sum\"`, `\"temperature_2m_max\"`, etc. and the values being the 15-day average of the measurements. The 15-day average should be the 7 days preceeding the input date, the input date, and the 7 days following the input date. This will give the results more statistical validity by increasing the number of samples for each measurement.\n",
    "\n",
    "The `get_historical_weather_measurements()` function will include a few different sub-tasks:\n",
    "\n",
    "### Create API Request in Postman/Insomnia\n",
    "Use the following [API Documentation](https://open-meteo.com/en/docs/historical-weather-api#api-documentation) page to create an API request that responds with a JSON object of the measurements listed above. Make sure the response object meets the following:\n",
    "* Temperatue measurements are in Fahrenheit\n",
    "* Precipitation measurements are in inches\n",
    "* Measurements are daily aggregations\n",
    "* 15 day range of weather\n",
    "* JSON format\n",
    "\n",
    "\n",
    "Before writing any code, use Postman/Insomnia to create the API request and take a screenshot of the request/response.\n",
    "\n",
    "### Create API Request Function\n",
    "Convert the request above into a function. The function should take in `latitude`, `longitude`, and `date` as its arguments and return the API response, if successful.\n",
    "\n",
    "```\n",
    "def get_api_response(latitude, longitude, date):\n",
    "    # your code\n",
    "\n",
    "```\n",
    "\n",
    "Use the helper function below for creating a 15-day date range "
   ]
  },
  {
   "cell_type": "code",
   "execution_count": 3,
   "id": "847c1b60",
   "metadata": {
    "ExecuteTime": {
     "end_time": "2023-02-28T00:37:52.984619Z",
     "start_time": "2023-02-28T00:37:52.975626Z"
    }
   },
   "outputs": [],
   "source": [
    "# helper function for 15-day date range\n",
    "def get_date_range(birthday):\n",
    "    # print(\"Date-Range Birthday\", type(birthday))\n",
    "    birthday = datetime.strptime(birthday, '%Y-%m-%d')\n",
    "    return {'start_date': birthday - timedelta(days=7),\n",
    "            'end_date': birthday + timedelta(days=7)\n",
    "           }\n",
    "\n"
   ]
  },
  {
   "cell_type": "code",
   "execution_count": 4,
   "id": "fec1e201",
   "metadata": {
    "ExecuteTime": {
     "end_time": "2023-02-28T00:37:55.391271Z",
     "start_time": "2023-02-28T00:37:55.379302Z"
    },
    "tags": []
   },
   "outputs": [],
   "source": [
    "# write your solution here\n",
    "def get_api_response(latitude, longitude, date):\n",
    "    url_slug = 'https://archive-api.open-meteo.com/v1/archive'\n",
    "    date_range = get_date_range(date)\n",
    "    # print('date range', date_range)\n",
    "    start_date = datetime.strftime(get_date_range(date)['start_date'], '%Y-%m-%d')\n",
    "    # print('Start Date', start_date)\n",
    "    end_date = datetime.strftime(get_date_range(date)['end_date'], '%Y-%m-%d')\n",
    "    #api call\n",
    "    response = requests.get(url_slug, \n",
    "                            params={'latitude': latitude,\n",
    "                                   'longitude': longitude,\n",
    "                                   'start_date': start_date,\n",
    "                                   'end_date': end_date,\n",
    "                                   'daily': ['temperature_2m_max', 'temperature_2m_min', 'apparent_temperature_max', 'apparent_temperature_min', 'precipitation_sum'],\n",
    "                                   'timezone': 'auto',\n",
    "                                   'temperature_unit': 'fahrenheit',\n",
    "                                   'precipitation_unit': 'inch'}).json()\n",
    "    return response\n",
    "\n",
    "# get_api_response(geocode_location('london', 'united kingdom')[0], geocode_location('london', 'united kingdom')[1], get_date_range('02/23/1995')) \n",
    "# get_api_response(geocode_location('london', 'united kingdom')[0], geocode_location('london', 'united kingdom')[1], get_date_range('06/02/2023'))\n",
    "# birthday = date(1995,2,23)\n",
    "# latitude, longitude = geocode_location('london', 'united kingdom')\n",
    "# get_api_response(latitude, longitude, birthday)"
   ]
  },
  {
   "cell_type": "markdown",
   "id": "e1a83014",
   "metadata": {},
   "source": [
    "### Iterating Over Each Year\n",
    "Write a function that iterates through each year between 1960 and 2022 and returns the corresponding JSON response objects containing weather data for each year in a python list.\n",
    "\n",
    "```\n",
    "def get_all_response_objects(start_year, end_year):\n",
    "    # your code\n",
    "```\n"
   ]
  },
  {
   "cell_type": "code",
   "execution_count": 5,
   "id": "0f7dd9ff",
   "metadata": {
    "ExecuteTime": {
     "end_time": "2023-02-28T00:37:55.921045Z",
     "start_time": "2023-02-28T00:37:55.917896Z"
    }
   },
   "outputs": [],
   "source": [
    "# write your solution here\n",
    "# def get_all_response_objects(latitude, longitude, date):\n",
    "# def get_all_response_objects(start_year, end_year):\n",
    "#     responses = []\n",
    "#     for year in range(start_year, end_year):\n",
    "#         request_date = date(year, birthday.month, birthday.day)\n",
    "#         r = get_api_response(latitude, longitude, request_date)\n",
    "#         responses.append(r)\n",
    "#     return responses\n",
    "\n",
    "# get_all_response_objects(1960, 1962, 'london', 'united kingdom', date(1995, 2, 23))\n",
    "\n",
    "def get_all_response_objects(latitude, longitude, date):\n",
    "    responses = []\n",
    "    start_year = 1960\n",
    "    end_year = 2022\n",
    "    \n",
    "    for year in range (start_year, end_year):\n",
    "        request_date = (year, date.month, date.day)\n",
    "        # print(request_date)\n",
    "        # print(type(request_date))\n",
    "        request_date = datetime(request_date[0], request_date[1], request_date[2])\n",
    "        formatted_date = datetime.strftime(request_date, '%Y-%m-%d')\n",
    "        \n",
    "        # print('Request', request_date)\n",
    "        # print('Formatted', formatted_date)\n",
    "        r = get_api_response(latitude, longitude, formatted_date)\n",
    "        responses.append(r)\n",
    "    return responses\n",
    "\n",
    "# latitude = geocode_location('london', 'united kingdom')[1]\n",
    "# longitude = geocode_location('london', 'united kingdom')[0]\n",
    "\n",
    "\n"
   ]
  },
  {
   "cell_type": "markdown",
   "id": "dd77748a",
   "metadata": {
    "tags": []
   },
   "source": [
    "### Parse JSON Responses & Aggregate Data\n",
    "Write a function that takes the list of JSON response objects from the previous function in as a parameter and returns a pandas DataFrame containing the original input date, the measurements, and the average across the 15 days.\n",
    "```\n",
    "def parse_json_response(responses):\n",
    "    # your code\n",
    "```\n"
   ]
  },
  {
   "cell_type": "code",
   "execution_count": 6,
   "id": "756e607e",
   "metadata": {
    "ExecuteTime": {
     "end_time": "2023-02-28T00:58:30.331208Z",
     "start_time": "2023-02-28T00:58:30.320011Z"
    }
   },
   "outputs": [],
   "source": [
    "# write your solution here\n",
    "def parse_json_response(responses):\n",
    "    # print('JSON Response Function')\n",
    "    \n",
    "    return pd.DataFrame(responses)\n",
    "     # remove this line once you start adding code to your function"
   ]
  },
  {
   "cell_type": "markdown",
   "id": "e96e3981",
   "metadata": {},
   "source": [
    "### Combining the Functions\n",
    "Write a function that combines all the above functions into one, where the user inputs their birthday and location and the function returns the pandas DataFrame containing the summary of measurements.\n",
    "\n",
    "```\n",
    "def get_data():\n",
    "    birthday = get_user_birthday()\n",
    "    location = get_user_city_of_birth()\n",
    "    # your code here\n",
    "```\n",
    "\n",
    "The helper functions below can be used for birthday and location input information:"
   ]
  },
  {
   "cell_type": "code",
   "execution_count": 7,
   "id": "554d19ad",
   "metadata": {
    "ExecuteTime": {
     "end_time": "2023-02-28T00:37:56.448620Z",
     "start_time": "2023-02-28T00:37:56.443554Z"
    }
   },
   "outputs": [],
   "source": [
    "# helper functions\n",
    "def get_user_birthday():\n",
    "    birthday = input('Enter your birthday (MM/DD/YYYY): ')\n",
    "    return datetime.strptime(birthday, \"%m/%d/%Y\")\n",
    "\n",
    "\n",
    "def get_user_city_of_birth():\n",
    "    city = input('Enter the city you were born in: ')\n",
    "    country = input('Enter the country you were born in: ')\n",
    "    return city , country\n"
   ]
  },
  {
   "cell_type": "code",
   "execution_count": 8,
   "id": "a7cd8c53",
   "metadata": {
    "ExecuteTime": {
     "end_time": "2023-02-28T00:37:56.588922Z",
     "start_time": "2023-02-28T00:37:56.585684Z"
    }
   },
   "outputs": [],
   "source": [
    "# write your solution here\n",
    "def get_data():\n",
    "    \n",
    "    birthday = get_user_birthday()\n",
    "    location = get_user_city_of_birth()\n",
    "    latitude, longitude = geocode_location(*location)\n",
    "    all_responses = get_all_response_objects(latitude, longitude, birthday)\n",
    "    \n",
    "    \n",
    "    return parse_json_response(all_responses) # remove this line once you start adding code to your function"
   ]
  },
  {
   "cell_type": "markdown",
   "id": "caebdcff",
   "metadata": {},
   "source": [
    "Run your function and set it equal to `df`:"
   ]
  },
  {
   "cell_type": "code",
   "execution_count": 10,
   "id": "e430b5df",
   "metadata": {
    "ExecuteTime": {
     "end_time": "2023-02-28T00:37:57.411326Z",
     "start_time": "2023-02-28T00:37:56.840425Z"
    },
    "scrolled": true
   },
   "outputs": [
    {
     "name": "stdin",
     "output_type": "stream",
     "text": [
      "Enter your birthday (MM/DD/YYYY):  02/23/1995\n",
      "Enter the city you were born in:  Detroit\n",
      "Enter the country you were born in:  USA\n"
     ]
    },
    {
     "data": {
      "text/html": [
       "<div>\n",
       "<style scoped>\n",
       "    .dataframe tbody tr th:only-of-type {\n",
       "        vertical-align: middle;\n",
       "    }\n",
       "\n",
       "    .dataframe tbody tr th {\n",
       "        vertical-align: top;\n",
       "    }\n",
       "\n",
       "    .dataframe thead th {\n",
       "        text-align: right;\n",
       "    }\n",
       "</style>\n",
       "<table border=\"1\" class=\"dataframe\">\n",
       "  <thead>\n",
       "    <tr style=\"text-align: right;\">\n",
       "      <th></th>\n",
       "      <th>latitude</th>\n",
       "      <th>longitude</th>\n",
       "      <th>generationtime_ms</th>\n",
       "      <th>utc_offset_seconds</th>\n",
       "      <th>timezone</th>\n",
       "      <th>timezone_abbreviation</th>\n",
       "      <th>elevation</th>\n",
       "      <th>daily_units</th>\n",
       "      <th>daily</th>\n",
       "    </tr>\n",
       "  </thead>\n",
       "  <tbody>\n",
       "    <tr>\n",
       "      <th>0</th>\n",
       "      <td>42.40001</td>\n",
       "      <td>-83.1</td>\n",
       "      <td>62.293053</td>\n",
       "      <td>-14400</td>\n",
       "      <td>America/Detroit</td>\n",
       "      <td>EDT</td>\n",
       "      <td>199.0</td>\n",
       "      <td>{'time': 'iso8601', 'temperature_2m_max': '°F'...</td>\n",
       "      <td>{'time': ['1960-02-16', '1960-02-17', '1960-02...</td>\n",
       "    </tr>\n",
       "    <tr>\n",
       "      <th>1</th>\n",
       "      <td>42.40001</td>\n",
       "      <td>-83.1</td>\n",
       "      <td>102.529049</td>\n",
       "      <td>-14400</td>\n",
       "      <td>America/Detroit</td>\n",
       "      <td>EDT</td>\n",
       "      <td>199.0</td>\n",
       "      <td>{'time': 'iso8601', 'temperature_2m_max': '°F'...</td>\n",
       "      <td>{'time': ['1961-02-16', '1961-02-17', '1961-02...</td>\n",
       "    </tr>\n",
       "    <tr>\n",
       "      <th>2</th>\n",
       "      <td>42.40001</td>\n",
       "      <td>-83.1</td>\n",
       "      <td>129.034042</td>\n",
       "      <td>-14400</td>\n",
       "      <td>America/Detroit</td>\n",
       "      <td>EDT</td>\n",
       "      <td>199.0</td>\n",
       "      <td>{'time': 'iso8601', 'temperature_2m_max': '°F'...</td>\n",
       "      <td>{'time': ['1962-02-16', '1962-02-17', '1962-02...</td>\n",
       "    </tr>\n",
       "    <tr>\n",
       "      <th>3</th>\n",
       "      <td>42.40001</td>\n",
       "      <td>-83.1</td>\n",
       "      <td>98.762989</td>\n",
       "      <td>-14400</td>\n",
       "      <td>America/Detroit</td>\n",
       "      <td>EDT</td>\n",
       "      <td>199.0</td>\n",
       "      <td>{'time': 'iso8601', 'temperature_2m_max': '°F'...</td>\n",
       "      <td>{'time': ['1963-02-16', '1963-02-17', '1963-02...</td>\n",
       "    </tr>\n",
       "    <tr>\n",
       "      <th>4</th>\n",
       "      <td>42.40001</td>\n",
       "      <td>-83.1</td>\n",
       "      <td>98.317981</td>\n",
       "      <td>-14400</td>\n",
       "      <td>America/Detroit</td>\n",
       "      <td>EDT</td>\n",
       "      <td>199.0</td>\n",
       "      <td>{'time': 'iso8601', 'temperature_2m_max': '°F'...</td>\n",
       "      <td>{'time': ['1964-02-16', '1964-02-17', '1964-02...</td>\n",
       "    </tr>\n",
       "  </tbody>\n",
       "</table>\n",
       "</div>"
      ],
      "text/plain": [
       "   latitude  longitude  generationtime_ms  utc_offset_seconds  \\\n",
       "0  42.40001      -83.1          62.293053              -14400   \n",
       "1  42.40001      -83.1         102.529049              -14400   \n",
       "2  42.40001      -83.1         129.034042              -14400   \n",
       "3  42.40001      -83.1          98.762989              -14400   \n",
       "4  42.40001      -83.1          98.317981              -14400   \n",
       "\n",
       "          timezone timezone_abbreviation  elevation  \\\n",
       "0  America/Detroit                   EDT      199.0   \n",
       "1  America/Detroit                   EDT      199.0   \n",
       "2  America/Detroit                   EDT      199.0   \n",
       "3  America/Detroit                   EDT      199.0   \n",
       "4  America/Detroit                   EDT      199.0   \n",
       "\n",
       "                                         daily_units  \\\n",
       "0  {'time': 'iso8601', 'temperature_2m_max': '°F'...   \n",
       "1  {'time': 'iso8601', 'temperature_2m_max': '°F'...   \n",
       "2  {'time': 'iso8601', 'temperature_2m_max': '°F'...   \n",
       "3  {'time': 'iso8601', 'temperature_2m_max': '°F'...   \n",
       "4  {'time': 'iso8601', 'temperature_2m_max': '°F'...   \n",
       "\n",
       "                                               daily  \n",
       "0  {'time': ['1960-02-16', '1960-02-17', '1960-02...  \n",
       "1  {'time': ['1961-02-16', '1961-02-17', '1961-02...  \n",
       "2  {'time': ['1962-02-16', '1962-02-17', '1962-02...  \n",
       "3  {'time': ['1963-02-16', '1963-02-17', '1963-02...  \n",
       "4  {'time': ['1964-02-16', '1964-02-17', '1964-02...  "
      ]
     },
     "execution_count": 10,
     "metadata": {},
     "output_type": "execute_result"
    }
   ],
   "source": [
    "df = get_data()\n",
    "\n",
    "df.head()"
   ]
  },
  {
   "cell_type": "code",
   "execution_count": 11,
   "id": "17be6117-c95a-42d4-ab84-08ec3da92352",
   "metadata": {},
   "outputs": [
    {
     "name": "stdout",
     "output_type": "stream",
     "text": [
      "<class 'pandas.core.frame.DataFrame'>\n",
      "RangeIndex: 62 entries, 0 to 61\n",
      "Data columns (total 9 columns):\n",
      " #   Column                 Non-Null Count  Dtype  \n",
      "---  ------                 --------------  -----  \n",
      " 0   latitude               62 non-null     float64\n",
      " 1   longitude              62 non-null     float64\n",
      " 2   generationtime_ms      62 non-null     float64\n",
      " 3   utc_offset_seconds     62 non-null     int64  \n",
      " 4   timezone               62 non-null     object \n",
      " 5   timezone_abbreviation  62 non-null     object \n",
      " 6   elevation              62 non-null     float64\n",
      " 7   daily_units            62 non-null     object \n",
      " 8   daily                  62 non-null     object \n",
      "dtypes: float64(4), int64(1), object(4)\n",
      "memory usage: 4.5+ KB\n"
     ]
    }
   ],
   "source": [
    "df.info()"
   ]
  },
  {
   "cell_type": "markdown",
   "id": "242a871e",
   "metadata": {
    "tags": []
   },
   "source": [
    "## Question 3: Visualizing The Data\n",
    "Plot the DataFrame using `matplotlib`/`seaborn` and write a short summary of your results."
   ]
  },
  {
   "cell_type": "code",
   "execution_count": 12,
   "id": "43e099dd",
   "metadata": {
    "ExecuteTime": {
     "end_time": "2023-02-28T00:38:07.414648Z",
     "start_time": "2023-02-28T00:38:07.408238Z"
    },
    "tags": []
   },
   "outputs": [
    {
     "data": {
      "text/html": [
       "<div>\n",
       "<style scoped>\n",
       "    .dataframe tbody tr th:only-of-type {\n",
       "        vertical-align: middle;\n",
       "    }\n",
       "\n",
       "    .dataframe tbody tr th {\n",
       "        vertical-align: top;\n",
       "    }\n",
       "\n",
       "    .dataframe thead th {\n",
       "        text-align: right;\n",
       "    }\n",
       "</style>\n",
       "<table border=\"1\" class=\"dataframe\">\n",
       "  <thead>\n",
       "    <tr style=\"text-align: right;\">\n",
       "      <th></th>\n",
       "      <th>time</th>\n",
       "      <th>temperature_2m_max</th>\n",
       "      <th>temperature_2m_min</th>\n",
       "      <th>apparent_temperature_max</th>\n",
       "      <th>apparent_temperature_min</th>\n",
       "      <th>precipitation_sum</th>\n",
       "    </tr>\n",
       "  </thead>\n",
       "  <tbody>\n",
       "    <tr>\n",
       "      <th>0</th>\n",
       "      <td>1960-02-16</td>\n",
       "      <td>39.8</td>\n",
       "      <td>29.2</td>\n",
       "      <td>30.6</td>\n",
       "      <td>20.2</td>\n",
       "      <td>0.000</td>\n",
       "    </tr>\n",
       "    <tr>\n",
       "      <th>1</th>\n",
       "      <td>1960-02-17</td>\n",
       "      <td>39.5</td>\n",
       "      <td>30.3</td>\n",
       "      <td>31.0</td>\n",
       "      <td>21.4</td>\n",
       "      <td>0.016</td>\n",
       "    </tr>\n",
       "    <tr>\n",
       "      <th>2</th>\n",
       "      <td>1960-02-18</td>\n",
       "      <td>33.2</td>\n",
       "      <td>25.3</td>\n",
       "      <td>23.6</td>\n",
       "      <td>17.4</td>\n",
       "      <td>0.000</td>\n",
       "    </tr>\n",
       "    <tr>\n",
       "      <th>3</th>\n",
       "      <td>1960-02-19</td>\n",
       "      <td>30.1</td>\n",
       "      <td>19.6</td>\n",
       "      <td>16.5</td>\n",
       "      <td>7.5</td>\n",
       "      <td>0.000</td>\n",
       "    </tr>\n",
       "    <tr>\n",
       "      <th>4</th>\n",
       "      <td>1960-02-20</td>\n",
       "      <td>31.8</td>\n",
       "      <td>15.7</td>\n",
       "      <td>22.4</td>\n",
       "      <td>3.8</td>\n",
       "      <td>0.000</td>\n",
       "    </tr>\n",
       "    <tr>\n",
       "      <th>...</th>\n",
       "      <td>...</td>\n",
       "      <td>...</td>\n",
       "      <td>...</td>\n",
       "      <td>...</td>\n",
       "      <td>...</td>\n",
       "      <td>...</td>\n",
       "    </tr>\n",
       "    <tr>\n",
       "      <th>10</th>\n",
       "      <td>2021-02-26</td>\n",
       "      <td>36.8</td>\n",
       "      <td>19.8</td>\n",
       "      <td>29.1</td>\n",
       "      <td>10.8</td>\n",
       "      <td>0.000</td>\n",
       "    </tr>\n",
       "    <tr>\n",
       "      <th>11</th>\n",
       "      <td>2021-02-27</td>\n",
       "      <td>46.2</td>\n",
       "      <td>29.4</td>\n",
       "      <td>39.1</td>\n",
       "      <td>22.8</td>\n",
       "      <td>0.193</td>\n",
       "    </tr>\n",
       "    <tr>\n",
       "      <th>12</th>\n",
       "      <td>2021-02-28</td>\n",
       "      <td>51.9</td>\n",
       "      <td>26.5</td>\n",
       "      <td>47.4</td>\n",
       "      <td>19.3</td>\n",
       "      <td>0.008</td>\n",
       "    </tr>\n",
       "    <tr>\n",
       "      <th>13</th>\n",
       "      <td>2021-03-01</td>\n",
       "      <td>41.0</td>\n",
       "      <td>22.0</td>\n",
       "      <td>31.3</td>\n",
       "      <td>10.3</td>\n",
       "      <td>0.000</td>\n",
       "    </tr>\n",
       "    <tr>\n",
       "      <th>14</th>\n",
       "      <td>2021-03-02</td>\n",
       "      <td>37.2</td>\n",
       "      <td>18.6</td>\n",
       "      <td>25.9</td>\n",
       "      <td>8.4</td>\n",
       "      <td>0.000</td>\n",
       "    </tr>\n",
       "  </tbody>\n",
       "</table>\n",
       "<p>930 rows × 6 columns</p>\n",
       "</div>"
      ],
      "text/plain": [
       "          time  temperature_2m_max  temperature_2m_min  \\\n",
       "0   1960-02-16                39.8                29.2   \n",
       "1   1960-02-17                39.5                30.3   \n",
       "2   1960-02-18                33.2                25.3   \n",
       "3   1960-02-19                30.1                19.6   \n",
       "4   1960-02-20                31.8                15.7   \n",
       "..         ...                 ...                 ...   \n",
       "10  2021-02-26                36.8                19.8   \n",
       "11  2021-02-27                46.2                29.4   \n",
       "12  2021-02-28                51.9                26.5   \n",
       "13  2021-03-01                41.0                22.0   \n",
       "14  2021-03-02                37.2                18.6   \n",
       "\n",
       "    apparent_temperature_max  apparent_temperature_min  precipitation_sum  \n",
       "0                       30.6                      20.2              0.000  \n",
       "1                       31.0                      21.4              0.016  \n",
       "2                       23.6                      17.4              0.000  \n",
       "3                       16.5                       7.5              0.000  \n",
       "4                       22.4                       3.8              0.000  \n",
       "..                       ...                       ...                ...  \n",
       "10                      29.1                      10.8              0.000  \n",
       "11                      39.1                      22.8              0.193  \n",
       "12                      47.4                      19.3              0.008  \n",
       "13                      31.3                      10.3              0.000  \n",
       "14                      25.9                       8.4              0.000  \n",
       "\n",
       "[930 rows x 6 columns]"
      ]
     },
     "execution_count": 12,
     "metadata": {},
     "output_type": "execute_result"
    }
   ],
   "source": [
    "# enter your code here\n",
    "#creating new dataframe desired information\n",
    "\n",
    "######debug code##########\n",
    "# print(len(df[['daily'][0]]))\n",
    "# df[['daily'][0]]\n",
    "# print(df[['daily'][0]][0])\n",
    "\n",
    "# type(df[['daily'][0]][0])\n",
    "##end debug code##\n",
    "\n",
    "#create list of dataframes, then merge into one\n",
    "\n",
    "\n",
    "df_list = []\n",
    "for n in range(0, len(df[['daily'][0]])):\n",
    "    # df_list = []\n",
    "    new_df = pd.DataFrame(df[['daily'][0]][n])\n",
    "    df_list.append(new_df)\n",
    "\n",
    "# print('DF List', df_list)\n",
    "# new_df = pd.DataFrame(df[['daily'][0]][1])\n",
    "# new_df\n",
    "\n",
    "\n",
    "new_df = pd.concat(df_list)\n",
    "new_df\n",
    "\n",
    "\n"
   ]
  },
  {
   "cell_type": "markdown",
   "id": "eb6e5a2a",
   "metadata": {},
   "source": [
    "### Results Summary:"
   ]
  },
  {
   "cell_type": "code",
   "execution_count": 13,
   "id": "5597b0c9",
   "metadata": {},
   "outputs": [
    {
     "name": "stdout",
     "output_type": "stream",
     "text": [
      "<class 'pandas.core.frame.DataFrame'>\n",
      "Int64Index: 930 entries, 0 to 14\n",
      "Data columns (total 6 columns):\n",
      " #   Column                    Non-Null Count  Dtype  \n",
      "---  ------                    --------------  -----  \n",
      " 0   time                      930 non-null    object \n",
      " 1   temperature_2m_max        930 non-null    float64\n",
      " 2   temperature_2m_min        930 non-null    float64\n",
      " 3   apparent_temperature_max  930 non-null    float64\n",
      " 4   apparent_temperature_min  930 non-null    float64\n",
      " 5   precipitation_sum         930 non-null    float64\n",
      "dtypes: float64(5), object(1)\n",
      "memory usage: 50.9+ KB\n"
     ]
    }
   ],
   "source": [
    "new_df.info()"
   ]
  },
  {
   "cell_type": "code",
   "execution_count": 15,
   "id": "acf1187c-6338-4f97-af6b-fd31832a386d",
   "metadata": {},
   "outputs": [
    {
     "data": {
      "image/png": "[encoded data removed]",
      "text/plain": [
       "<Figure size 640x480 with 1 Axes>"
      ]
     },
     "metadata": {},
     "output_type": "display_data"
    }
   ],
   "source": [
    "new_df['time'] = pd.to_datetime(new_df['time'])\n",
    "\n",
    "# Extract the year from the 'time' column\n",
    "new_df['year'] = new_df['time'].dt.year\n",
    "\n",
    "# Group by year and calculate the sum of precipitation\n",
    "grouped_data = new_df.groupby('year')['precipitation_sum'].sum()\n",
    "\n",
    "# Create a line plot\n",
    "plt.plot(grouped_data.index, grouped_data.values)\n",
    "\n",
    "# Set labels and title\n",
    "plt.xlabel('Year')\n",
    "plt.ylabel('Total Precipitation')\n",
    "plt.title('Total Precipitation by Year')\n",
    "\n",
    "plt.xticks(grouped_data.index, rotation=90)\n",
    "\n",
    "# Display the plot\n",
    "plt.show()\n"
   ]
  },
  {
   "cell_type": "code",
   "execution_count": null,
   "id": "7ea3c7cd-d2af-42ab-a599-61ae452d85c2",
   "metadata": {},
   "outputs": [],
   "source": []
  }
 ],
 "metadata": {
  "kernelspec": {
   "display_name": "Python 3 (ipykernel)",
   "language": "python",
   "name": "python3"
  },
  "language_info": {
   "codemirror_mode": {
    "name": "ipython",
    "version": 3
   },
   "file_extension": ".py",
   "mimetype": "text/x-python",
   "name": "python",
   "nbconvert_exporter": "python",
   "pygments_lexer": "ipython3",
   "version": "3.9.13"
  }
 },
 "nbformat": 4,
 "nbformat_minor": 5
}
